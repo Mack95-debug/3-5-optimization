{
 "cells": [
  {
   "cell_type": "markdown",
   "metadata": {},
   "source": [
    "# 1. Bisection\n",
    "\n",
    "\n",
    "One of the most common algorithms for numerical root-finding is *bisection*.\n",
    "\n",
    "To understand the idea, recall the well-known game where:\n",
    "\n",
    "- Player A thinks of a secret number between 1 and 100  \n",
    "- Player B asks if it’s less than 50  \n",
    "  \n",
    "  - If yes, B asks if it’s less than 25  \n",
    "  - If no, B asks if it’s less than 75  \n",
    "  \n",
    "\n",
    "And so on.\n",
    "\n",
    "This is bisection, a relative of [binary search](https://en.wikipedia.org/wiki/Binary_search_algorithm). It works for all sufficiently well behaved increasing continuous functions with $ f(a) < 0 < f(b) $. \n",
    "\n",
    "Write an implementation of the bisection algorith, `bisect(f, lower, upper, tol)` which, given a function `f`, a lower bound `lower` and an upper bound `upper` finds the point `x` where `f(x) = 0`. The parameter `tol` is a numerical tolerance, you should stop once your step size is smaller than `tol`.\n",
    "\n",
    "\n",
    "Use it to minimize the function:\n",
    "\n",
    "$$\n",
    "f(x) = \\sin(4 (x - 1/4)) + x + x^{20} - 1 \\tag{2}\n",
    "$$\n",
    "\n",
    "in python: `lambda x: np.sin(4 * (x - 1/4)) + x + x**20 - 1`\n",
    "\n",
    "The value where f(x) = 0 should be around `0.408`"
   ]
  },
  {
   "cell_type": "code",
   "execution_count": 1,
   "metadata": {},
   "outputs": [],
   "source": [
    "# Help from this link https://www.math.ubc.ca/~pwalls/math-python/roots-optimization/bisection/"
   ]
  },
  {
   "cell_type": "code",
   "execution_count": 80,
   "metadata": {},
   "outputs": [],
   "source": [
    "import numpy as np\n",
    "import pandas as pd\n",
    "from sklearn import linear_model\n",
    "import statsmodels.api as sm\n",
    "import matplotlib.pyplot as plt"
   ]
  },
  {
   "cell_type": "code",
   "execution_count": 2,
   "metadata": {},
   "outputs": [
    {
     "output_type": "stream",
     "name": "stdout",
     "text": [
      "Found exact solution.\n"
     ]
    },
    {
     "output_type": "execute_result",
     "data": {
      "text/plain": [
       "0.40829350427936706"
      ]
     },
     "metadata": {},
     "execution_count": 2
    }
   ],
   "source": [
    "def bisect(f, lower, upper, tol):\n",
    "\n",
    "    if f(lower)*f(upper) >= 0:\n",
    "        print(\"Bisection method fails\")\n",
    "        return None\n",
    "\n",
    "    a = lower\n",
    "    b = upper\n",
    "\n",
    "    for n in range(1, tol+1):\n",
    "        m_n = (a + b)/2\n",
    "        f_m_n = f(m_n)\n",
    "\n",
    "        if f(a) * f_m_n < 0:\n",
    "            a = a\n",
    "            b = m_n\n",
    "\n",
    "        elif f(b) * f_m_n < 0:\n",
    "            a = m_n\n",
    "            b = b\n",
    "\n",
    "        elif f_m_n == 0:\n",
    "            print(\"Found exact solution.\")\n",
    "            return m_n\n",
    "\n",
    "        else:\n",
    "            print(\"Bisection method fails.\")\n",
    "            return None\n",
    "\n",
    "    return (a + b)/2\n",
    "\n",
    "f = lambda x: np.sin(4 * (x - 1/4)) + x + x**20 - 1\n",
    "res = bisect(f,-1,2, 100)\n",
    "res\n"
   ]
  },
  {
   "cell_type": "markdown",
   "metadata": {},
   "source": [
    "# 1.2 (stretch) Recursive Bisect\n",
    "\n",
    "Write a recursive version of the bisection algorithm"
   ]
  },
  {
   "cell_type": "markdown",
   "metadata": {},
   "source": [
    "# 2.1 Movies Regression\n",
    "\n",
    "Write the best linear regression model you can on the [Movies Dataset](https://www.kaggle.com/rounakbanik/the-movies-dataset?select=ratings.csv) to predict the profitability of a movie (revenue - budget). Maintain the interpretability of the model.\n",
    "\n",
    "Few notes:\n",
    "\n",
    "1. Clean your data! Movies where the budget or revenue are invalid should be thrown out\n",
    "\n",
    "2. Be creative with feature engineering. You can include processing to one-hot encode the type of movie, etc.\n",
    "\n",
    "3. The model should be useful for someone **who is thinking about making a movie**. So features like the popularity can't be used. You could, however, use the ratings to figure out if making \"good\" or \"oscar bait\" movies is a profitable strategy."
   ]
  },
  {
   "cell_type": "code",
   "execution_count": null,
   "metadata": {},
   "outputs": [],
   "source": [
    "# Help in various places from this link, mainly data clean/prep\n",
    "# https://www.kaggle.com/hyejinjeon/predicting-movie-success-dense-neural-network"
   ]
  },
  {
   "source": [
    "# Data Prep"
   ],
   "cell_type": "markdown",
   "metadata": {}
  },
  {
   "cell_type": "code",
   "execution_count": 179,
   "metadata": {
    "colab": {},
    "colab_type": "code",
    "id": "WPi9xcx3mywk"
   },
   "outputs": [],
   "source": [
    "df = pd.read_csv('/Users/kalebmckenzie/Documents/GitHub/3-5-optimization/movies_metadata.csv')\n",
    "\n",
    "zero_rev = df[df['revenue'] == 0.0].index\n",
    "df.drop(zero_rev, inplace = True)\n",
    "\n",
    "zero_bud = df[df['budget'] == '0'].index\n",
    "df.drop(zero_bud, inplace = True)\n",
    "\n",
    "#Getting rid of random values in budget column\n",
    "\n",
    "ran_bud = df[df['budget'] == '/ff9qCepilowshEtG2GYWwzt2bs4.jpg'].index\n",
    "ran_bud2 = df[df['budget'] == '/zV8bHuSL6WXoD6FWogP9j4x80bL.jpg'].index\n",
    "ran_bud3 = df[df['budget'] == '/zaSf5OG7V8X8gqFvly88zDdRm46.jpg'].index\n",
    "\n",
    "df.drop(ran_bud, inplace = True)\n",
    "df.drop(ran_bud2, inplace = True)\n",
    "df.drop(ran_bud3, inplace = True)\n",
    "\n",
    "#Dropping columns I dont need\n",
    "\n",
    "df = df.drop(['id','belongs_to_collection', 'homepage', 'imdb_id', \n",
    "                'original_language', 'original_title', 'overview',\n",
    "                'poster_path', 'production_countries', 'release_date', \n",
    "                'spoken_languages', 'status', 'tagline', 'title', 'video', 'popularity','adult'], axis=1)\n",
    "\n",
    "#Cleaning and prep\n",
    "\n",
    "df['budget'] = df['budget'].astype(float)\n",
    "\n",
    "#Creation of profit col\n",
    "\n",
    "df['profit'] = df['revenue'] - df['budget']\n",
    "\n",
    "df['vote_average'] = df['vote_average'].fillna(0)\n",
    "\n",
    "df['runtime'] = df['runtime'].fillna(0)\n",
    "\n",
    "#Seperating Genres\n",
    "s = pd.Series(df['genres'], dtype= str)\n",
    "\n",
    "s1 = s.str.split(pat=\"'\",expand=True)\n",
    "\n",
    "df['genre_ed'] = s1[5]\n",
    "\n",
    "#Seperating companies\n",
    "\n",
    "c = pd.Series(df['production_companies'], dtype= str)\n",
    "\n",
    "c1 = c.str.split(pat=\"'\",expand=True)\n",
    "\n",
    "df['prod_comp'] = c1[3]\n",
    "\n",
    "#Dropping again\n",
    "\n",
    "df = df.drop(['production_companies'], axis=1)\n",
    "\n",
    "df = df.drop(['genres'], axis=1)\n",
    "\n",
    "#Creating mean variables to filter by\n",
    "\n",
    "mean_run = df['runtime'].mean()\n",
    "\n",
    "mean_vote = df['vote_average'].mean()\n",
    "\n",
    "mean_count = df['vote_count'].mean()\n",
    "\n",
    "mean_profit = df['profit'].mean()\n",
    "\n",
    "#Cutting out genres with less than 100 observations\n",
    "\n",
    "df = df[~df['genre_ed'].isin(['Mystery', 'Family', 'Documentary', 'War', 'Music', 'Western', 'History', 'Foreign', 'TV Movie'])]"
   ]
  },
  {
   "cell_type": "code",
   "execution_count": 180,
   "metadata": {},
   "outputs": [
    {
     "output_type": "execute_result",
     "data": {
      "text/plain": [
       "            budget       revenue  runtime  vote_average  vote_count  \\\n",
       "5       60000000.0  1.874368e+08    170.0           7.7      1886.0   \n",
       "9       58000000.0  3.521940e+08    130.0           6.6      1194.0   \n",
       "15      52000000.0  1.161124e+08    178.0           7.8      1343.0   \n",
       "31      29500000.0  1.688400e+08    129.0           7.4      2470.0   \n",
       "46      33000000.0  3.273119e+08    127.0           8.1      5915.0   \n",
       "...            ...           ...      ...           ...         ...   \n",
       "42168   40000000.0  1.715399e+08    122.0           6.7      2924.0   \n",
       "42170   97000000.0  6.168018e+08    137.0           7.6      6310.0   \n",
       "43255  250000000.0  1.238765e+09    136.0           6.8      3803.0   \n",
       "43644   34000000.0  2.245113e+08    113.0           7.2      2083.0   \n",
       "44274  152000000.0  3.699080e+08    140.0           6.7      1675.0   \n",
       "\n",
       "            profit         genre_ed                               prod_comp  \n",
       "5      127436818.0           Action                     Regency Enterprises  \n",
       "9      294194034.0        Adventure                          United Artists  \n",
       "15      64112375.0            Drama                      Universal Pictures  \n",
       "31     139340000.0  Science Fiction                      Universal Pictures  \n",
       "46     294311859.0            Crime                         New Line Cinema  \n",
       "...            ...              ...                                     ...  \n",
       "42168  131539887.0         Thriller                   Thunder Road Pictures  \n",
       "42170  519801808.0           Action  Twentieth Century Fox Film Corporation  \n",
       "43255  988764765.0           Action                      Universal Pictures  \n",
       "43644  190511319.0           Action                    Big Talk Productions  \n",
       "44274  217907963.0            Drama                   Chernin Entertainment  \n",
       "\n",
       "[410 rows x 8 columns]"
      ],
      "text/html": "<div>\n<style scoped>\n    .dataframe tbody tr th:only-of-type {\n        vertical-align: middle;\n    }\n\n    .dataframe tbody tr th {\n        vertical-align: top;\n    }\n\n    .dataframe thead th {\n        text-align: right;\n    }\n</style>\n<table border=\"1\" class=\"dataframe\">\n  <thead>\n    <tr style=\"text-align: right;\">\n      <th></th>\n      <th>budget</th>\n      <th>revenue</th>\n      <th>runtime</th>\n      <th>vote_average</th>\n      <th>vote_count</th>\n      <th>profit</th>\n      <th>genre_ed</th>\n      <th>prod_comp</th>\n    </tr>\n  </thead>\n  <tbody>\n    <tr>\n      <th>5</th>\n      <td>60000000.0</td>\n      <td>1.874368e+08</td>\n      <td>170.0</td>\n      <td>7.7</td>\n      <td>1886.0</td>\n      <td>127436818.0</td>\n      <td>Action</td>\n      <td>Regency Enterprises</td>\n    </tr>\n    <tr>\n      <th>9</th>\n      <td>58000000.0</td>\n      <td>3.521940e+08</td>\n      <td>130.0</td>\n      <td>6.6</td>\n      <td>1194.0</td>\n      <td>294194034.0</td>\n      <td>Adventure</td>\n      <td>United Artists</td>\n    </tr>\n    <tr>\n      <th>15</th>\n      <td>52000000.0</td>\n      <td>1.161124e+08</td>\n      <td>178.0</td>\n      <td>7.8</td>\n      <td>1343.0</td>\n      <td>64112375.0</td>\n      <td>Drama</td>\n      <td>Universal Pictures</td>\n    </tr>\n    <tr>\n      <th>31</th>\n      <td>29500000.0</td>\n      <td>1.688400e+08</td>\n      <td>129.0</td>\n      <td>7.4</td>\n      <td>2470.0</td>\n      <td>139340000.0</td>\n      <td>Science Fiction</td>\n      <td>Universal Pictures</td>\n    </tr>\n    <tr>\n      <th>46</th>\n      <td>33000000.0</td>\n      <td>3.273119e+08</td>\n      <td>127.0</td>\n      <td>8.1</td>\n      <td>5915.0</td>\n      <td>294311859.0</td>\n      <td>Crime</td>\n      <td>New Line Cinema</td>\n    </tr>\n    <tr>\n      <th>...</th>\n      <td>...</td>\n      <td>...</td>\n      <td>...</td>\n      <td>...</td>\n      <td>...</td>\n      <td>...</td>\n      <td>...</td>\n      <td>...</td>\n    </tr>\n    <tr>\n      <th>42168</th>\n      <td>40000000.0</td>\n      <td>1.715399e+08</td>\n      <td>122.0</td>\n      <td>6.7</td>\n      <td>2924.0</td>\n      <td>131539887.0</td>\n      <td>Thriller</td>\n      <td>Thunder Road Pictures</td>\n    </tr>\n    <tr>\n      <th>42170</th>\n      <td>97000000.0</td>\n      <td>6.168018e+08</td>\n      <td>137.0</td>\n      <td>7.6</td>\n      <td>6310.0</td>\n      <td>519801808.0</td>\n      <td>Action</td>\n      <td>Twentieth Century Fox Film Corporation</td>\n    </tr>\n    <tr>\n      <th>43255</th>\n      <td>250000000.0</td>\n      <td>1.238765e+09</td>\n      <td>136.0</td>\n      <td>6.8</td>\n      <td>3803.0</td>\n      <td>988764765.0</td>\n      <td>Action</td>\n      <td>Universal Pictures</td>\n    </tr>\n    <tr>\n      <th>43644</th>\n      <td>34000000.0</td>\n      <td>2.245113e+08</td>\n      <td>113.0</td>\n      <td>7.2</td>\n      <td>2083.0</td>\n      <td>190511319.0</td>\n      <td>Action</td>\n      <td>Big Talk Productions</td>\n    </tr>\n    <tr>\n      <th>44274</th>\n      <td>152000000.0</td>\n      <td>3.699080e+08</td>\n      <td>140.0</td>\n      <td>6.7</td>\n      <td>1675.0</td>\n      <td>217907963.0</td>\n      <td>Drama</td>\n      <td>Chernin Entertainment</td>\n    </tr>\n  </tbody>\n</table>\n<p>410 rows × 8 columns</p>\n</div>"
     },
     "metadata": {},
     "execution_count": 180
    }
   ],
   "source": [
    "#Filtering data to only be looking at movies above the mean\n",
    "\n",
    "df.drop(df[df['runtime'] < mean_run].index, inplace=True)\n",
    "df.drop(df[df['vote_average'] < mean_vote].index, inplace=True)\n",
    "df.drop(df[df['vote_count'] < mean_count].index, inplace=True)\n",
    "df.drop(df[df['profit'] < mean_profit].index, inplace=True)\n",
    "df"
   ]
  },
  {
   "cell_type": "code",
   "execution_count": 181,
   "metadata": {},
   "outputs": [],
   "source": [
    "df2 = df.copy()\n",
    "df2 = df2.drop(['budget','revenue','genre_ed','prod_comp'],axis=1)"
   ]
  },
  {
   "source": [
    "# Regression model with votes and runtimes"
   ],
   "cell_type": "markdown",
   "metadata": {}
  },
  {
   "cell_type": "code",
   "execution_count": 203,
   "metadata": {},
   "outputs": [
    {
     "output_type": "execute_result",
     "data": {
      "text/plain": [
       "<class 'statsmodels.iolib.summary.Summary'>\n",
       "\"\"\"\n",
       "                                 OLS Regression Results                                \n",
       "=======================================================================================\n",
       "Dep. Variable:                 profit   R-squared (uncentered):                   0.760\n",
       "Model:                            OLS   Adj. R-squared (uncentered):              0.758\n",
       "Method:                 Least Squares   F-statistic:                              429.4\n",
       "Date:                Mon, 01 Feb 2021   Prob (F-statistic):                   1.14e-125\n",
       "Time:                        19:27:36   Log-Likelihood:                         -8414.8\n",
       "No. Observations:                 410   AIC:                                  1.684e+04\n",
       "Df Residuals:                     407   BIC:                                  1.685e+04\n",
       "Df Model:                           3                                                  \n",
       "Covariance Type:            nonrobust                                                  \n",
       "================================================================================\n",
       "                   coef    std err          t      P>|t|      [0.025      0.975]\n",
       "--------------------------------------------------------------------------------\n",
       "vote_count    7.769e+04   4406.835     17.629      0.000     6.9e+04    8.64e+04\n",
       "vote_average  -5.59e+07   1.06e+07     -5.249      0.000   -7.68e+07    -3.5e+07\n",
       "runtime       3.384e+06   5.76e+05      5.873      0.000    2.25e+06    4.52e+06\n",
       "==============================================================================\n",
       "Omnibus:                      209.922   Durbin-Watson:                   1.988\n",
       "Prob(Omnibus):                  0.000   Jarque-Bera (JB):             2379.343\n",
       "Skew:                           1.902   Prob(JB):                         0.00\n",
       "Kurtosis:                      14.172   Cond. No.                     4.28e+03\n",
       "==============================================================================\n",
       "\n",
       "Warnings:\n",
       "[1] Standard Errors assume that the covariance matrix of the errors is correctly specified.\n",
       "[2] The condition number is large, 4.28e+03. This might indicate that there are\n",
       "strong multicollinearity or other numerical problems.\n",
       "\"\"\""
      ],
      "text/html": "<table class=\"simpletable\">\n<caption>OLS Regression Results</caption>\n<tr>\n  <th>Dep. Variable:</th>         <td>profit</td>      <th>  R-squared (uncentered):</th>      <td>   0.760</td> \n</tr>\n<tr>\n  <th>Model:</th>                   <td>OLS</td>       <th>  Adj. R-squared (uncentered):</th> <td>   0.758</td> \n</tr>\n<tr>\n  <th>Method:</th>             <td>Least Squares</td>  <th>  F-statistic:       </th>          <td>   429.4</td> \n</tr>\n<tr>\n  <th>Date:</th>             <td>Mon, 01 Feb 2021</td> <th>  Prob (F-statistic):</th>          <td>1.14e-125</td>\n</tr>\n<tr>\n  <th>Time:</th>                 <td>19:27:36</td>     <th>  Log-Likelihood:    </th>          <td> -8414.8</td> \n</tr>\n<tr>\n  <th>No. Observations:</th>      <td>   410</td>      <th>  AIC:               </th>          <td>1.684e+04</td>\n</tr>\n<tr>\n  <th>Df Residuals:</th>          <td>   407</td>      <th>  BIC:               </th>          <td>1.685e+04</td>\n</tr>\n<tr>\n  <th>Df Model:</th>              <td>     3</td>      <th>                     </th>              <td> </td>    \n</tr>\n<tr>\n  <th>Covariance Type:</th>      <td>nonrobust</td>    <th>                     </th>              <td> </td>    \n</tr>\n</table>\n<table class=\"simpletable\">\n<tr>\n        <td></td>          <th>coef</th>     <th>std err</th>      <th>t</th>      <th>P>|t|</th>  <th>[0.025</th>    <th>0.975]</th>  \n</tr>\n<tr>\n  <th>vote_count</th>   <td> 7.769e+04</td> <td> 4406.835</td> <td>   17.629</td> <td> 0.000</td> <td>  6.9e+04</td> <td> 8.64e+04</td>\n</tr>\n<tr>\n  <th>vote_average</th> <td> -5.59e+07</td> <td> 1.06e+07</td> <td>   -5.249</td> <td> 0.000</td> <td>-7.68e+07</td> <td> -3.5e+07</td>\n</tr>\n<tr>\n  <th>runtime</th>      <td> 3.384e+06</td> <td> 5.76e+05</td> <td>    5.873</td> <td> 0.000</td> <td> 2.25e+06</td> <td> 4.52e+06</td>\n</tr>\n</table>\n<table class=\"simpletable\">\n<tr>\n  <th>Omnibus:</th>       <td>209.922</td> <th>  Durbin-Watson:     </th> <td>   1.988</td>\n</tr>\n<tr>\n  <th>Prob(Omnibus):</th> <td> 0.000</td>  <th>  Jarque-Bera (JB):  </th> <td>2379.343</td>\n</tr>\n<tr>\n  <th>Skew:</th>          <td> 1.902</td>  <th>  Prob(JB):          </th> <td>    0.00</td>\n</tr>\n<tr>\n  <th>Kurtosis:</th>      <td>14.172</td>  <th>  Cond. No.          </th> <td>4.28e+03</td>\n</tr>\n</table><br/><br/>Warnings:<br/>[1] Standard Errors assume that the covariance matrix of the errors is correctly specified.<br/>[2] The condition number is large, 4.28e+03. This might indicate that there are<br/>strong multicollinearity or other numerical problems."
     },
     "metadata": {},
     "execution_count": 203
    }
   ],
   "source": [
    "#Decided to leave out genres and companies as they werent significant to the model\n",
    "#and were a little too messy to work with.\n",
    "#but just as a representation I created a regression model\n",
    "#it will be below this one.\n",
    "#just to show a potential film maker which genres and production\n",
    "#companies predict profitability\n",
    "\n",
    "\n",
    "#Decided to Leave out the constant\n",
    "#as it yields a better R-2.\n",
    "#Plus the data fits well without one\n",
    "\n",
    "x = df2[['vote_count','vote_average','runtime']]\n",
    "y = df2['profit']\n",
    "\n",
    "m_model = sm.OLS(y,x).fit()\n",
    "\n",
    "m_pred = m_model.predict(x)\n",
    "\n",
    "m_model.summary()"
   ]
  },
  {
   "source": [
    "# Regression with genres and production companies"
   ],
   "cell_type": "markdown",
   "metadata": {}
  },
  {
   "cell_type": "code",
   "execution_count": 198,
   "metadata": {},
   "outputs": [
    {
     "output_type": "execute_result",
     "data": {
      "text/plain": [
       "<class 'statsmodels.iolib.summary.Summary'>\n",
       "\"\"\"\n",
       "                            OLS Regression Results                            \n",
       "==============================================================================\n",
       "Dep. Variable:                 profit   R-squared:                       0.625\n",
       "Model:                            OLS   Adj. R-squared:                  0.464\n",
       "Method:                 Least Squares   F-statistic:                     3.879\n",
       "Date:                Mon, 01 Feb 2021   Prob (F-statistic):           2.54e-21\n",
       "Time:                        19:19:56   Log-Likelihood:                -8349.1\n",
       "No. Observations:                 410   AIC:                         1.695e+04\n",
       "Df Residuals:                     286   BIC:                         1.744e+04\n",
       "Df Model:                         123                                         \n",
       "Covariance Type:            nonrobust                                         \n",
       "====================================================================================================================\n",
       "                                                       coef    std err          t      P>|t|      [0.025      0.975]\n",
       "--------------------------------------------------------------------------------------------------------------------\n",
       "runtime                                           3.917e+06   8.59e+05      4.561      0.000    2.23e+06    5.61e+06\n",
       "vote_average                                     -9.862e+07   2.91e+07     -3.389      0.001   -1.56e+08   -4.13e+07\n",
       "vote_count                                        7.567e+04   7080.493     10.687      0.000    6.17e+04    8.96e+04\n",
       "genre_ed_Action                                   2.369e+08   1.94e+08      1.219      0.224   -1.45e+08    6.19e+08\n",
       "genre_ed_Adventure                                1.902e+08   1.97e+08      0.963      0.336   -1.98e+08    5.79e+08\n",
       "genre_ed_Animation                                1.796e+08   2.35e+08      0.763      0.446   -2.84e+08    6.43e+08\n",
       "genre_ed_Comedy                                   2.274e+08   1.96e+08      1.160      0.247   -1.58e+08    6.13e+08\n",
       "genre_ed_Crime                                    1.479e+08   2.06e+08      0.717      0.474   -2.58e+08    5.54e+08\n",
       "genre_ed_Drama                                    1.844e+08   2.09e+08      0.882      0.378   -2.27e+08    5.96e+08\n",
       "genre_ed_Fantasy                                  2.926e+08   2.12e+08      1.380      0.169   -1.25e+08     7.1e+08\n",
       "genre_ed_Horror                                   2.263e+08   2.11e+08      1.075      0.283   -1.88e+08    6.41e+08\n",
       "genre_ed_Romance                                  3.021e+08   2.09e+08      1.449      0.149   -1.08e+08    7.13e+08\n",
       "genre_ed_Science Fiction                          2.446e+08   2.01e+08      1.220      0.224    -1.5e+08    6.39e+08\n",
       "genre_ed_Thriller                                 1.849e+08   2.07e+08      0.891      0.374   -2.24e+08    5.93e+08\n",
       "prod_comp_1492 Pictures                           2.386e+08   1.24e+08      1.917      0.056   -6.36e+06    4.83e+08\n",
       "prod_comp_20th Century Fox                       -3.205e+07   2.04e+08     -0.157      0.875   -4.33e+08    3.69e+08\n",
       "prod_comp_Alcon Entertainment                     -4.33e+07   1.19e+08     -0.365      0.716   -2.77e+08     1.9e+08\n",
       "prod_comp_Alliance Films                         -3.374e+07   2.14e+08     -0.157      0.875   -4.56e+08    3.88e+08\n",
       "prod_comp_Amblin Entertainment                   -3.277e+07   1.46e+08     -0.225      0.822    -3.2e+08    2.54e+08\n",
       "prod_comp_American Zoetrope                      -9.645e+06   2.19e+08     -0.044      0.965    -4.4e+08    4.21e+08\n",
       "prod_comp_Arte                                    5.213e+07   2.06e+08      0.254      0.800   -3.52e+08    4.57e+08\n",
       "prod_comp_BBC Films                               1.609e+08   2.04e+08      0.790      0.430    -2.4e+08    5.62e+08\n",
       "prod_comp_Bac Films                              -3.388e+07   2.06e+08     -0.164      0.870    -4.4e+08    3.72e+08\n",
       "prod_comp_Bazmark Films                           5.267e+07   1.44e+08      0.365      0.715   -2.31e+08    3.37e+08\n",
       "prod_comp_Bedford Falls Productions              -5.829e+07   1.44e+08     -0.405      0.686   -3.42e+08    2.25e+08\n",
       "prod_comp_Big Indie Pictures                     -2.504e+07   2.03e+08     -0.123      0.902   -4.25e+08    3.75e+08\n",
       "prod_comp_Big Talk Productions                    6.346e+07   2.04e+08      0.311      0.756   -3.38e+08    4.65e+08\n",
       "prod_comp_Bookshop Productions                    1.254e+08   2.18e+08      0.575      0.566   -3.04e+08    5.55e+08\n",
       "prod_comp_Brownstone Productions                 -2.267e+07   2.07e+08     -0.110      0.913   -4.29e+08    3.84e+08\n",
       "prod_comp_Castle Rock Entertainment              -3.149e+08    2.3e+08     -1.368      0.172   -7.68e+08    1.38e+08\n",
       "prod_comp_Centropolis Entertainment              -5.512e+07   1.45e+08     -0.379      0.705   -3.41e+08    2.31e+08\n",
       "prod_comp_Chernin Entertainment                   1.913e+07   2.02e+08      0.094      0.925   -3.79e+08    4.18e+08\n",
       "prod_comp_Columbia Pictures                      -3.158e+07   4.64e+07     -0.681      0.497   -1.23e+08    5.97e+07\n",
       "prod_comp_Columbia Pictures Corporation           6.026e+07   9.33e+07      0.646      0.519   -1.23e+08    2.44e+08\n",
       "prod_comp_Cruise/Wagner Productions               1.018e+08   2.04e+08      0.499      0.618      -3e+08    5.03e+08\n",
       "prod_comp_DC Comics                              -2.299e+08    1.5e+08     -1.535      0.126   -5.25e+08     6.5e+07\n",
       "prod_comp_DNA Films                              -2.841e+07   2.15e+08     -0.132      0.895   -4.51e+08    3.94e+08\n",
       "prod_comp_David Brown Productions                 1.105e+08   2.03e+08      0.544      0.587   -2.89e+08     5.1e+08\n",
       "prod_comp_Davis-Films                            -3.195e+07    2.1e+08     -0.152      0.879   -4.45e+08    3.81e+08\n",
       "prod_comp_De Line Pictures                       -4.826e+07   2.03e+08     -0.238      0.812   -4.47e+08    3.51e+08\n",
       "prod_comp_Degeto Film                            -4.238e+07   2.06e+08     -0.206      0.837   -4.48e+08    3.63e+08\n",
       "prod_comp_Det Danske Filminstitut                -3.584e+07   2.05e+08     -0.175      0.861   -4.38e+08    3.67e+08\n",
       "prod_comp_Dimension Films                        -1.023e+08   2.04e+08     -0.502      0.616   -5.03e+08    2.99e+08\n",
       "prod_comp_Double Feature Films                   -2.741e+08   2.12e+08     -1.296      0.196    -6.9e+08    1.42e+08\n",
       "prod_comp_DreamWorks                              2.445e+07   2.03e+08      0.121      0.904   -3.75e+08    4.23e+08\n",
       "prod_comp_DreamWorks SKG                         -1.299e+07   6.44e+07     -0.202      0.840    -1.4e+08    1.14e+08\n",
       "prod_comp_Dune Entertainment                      2.122e+08   2.04e+08      1.042      0.298   -1.89e+08    6.13e+08\n",
       "prod_comp_Eon Productions                         1.173e+08   2.05e+08      0.573      0.567   -2.86e+08    5.21e+08\n",
       "prod_comp_Escape Artists                         -9.684e+07   2.04e+08     -0.474      0.636   -4.99e+08    3.06e+08\n",
       "prod_comp_Estudios Picasso                       -1.773e+08   2.22e+08     -0.798      0.426   -6.15e+08     2.6e+08\n",
       "prod_comp_Figment Films                          -2.134e+07   2.02e+08     -0.105      0.916    -4.2e+08    3.77e+08\n",
       "prod_comp_Fox 2000 Pictures                       4.427e+07   1.51e+08      0.293      0.770   -2.53e+08    3.42e+08\n",
       "prod_comp_Fox Searchlight Pictures                1.525e+08   1.45e+08      1.052      0.294   -1.33e+08    4.38e+08\n",
       "prod_comp_France 3 Cinéma                        -2.967e+07   2.08e+08     -0.142      0.887    -4.4e+08     3.8e+08\n",
       "prod_comp_GK Films                               -2.922e+07   2.02e+08     -0.144      0.885   -4.28e+08    3.69e+08\n",
       "prod_comp_Gaumont                                 1.897e+08   2.06e+08      0.919      0.359   -2.16e+08    5.96e+08\n",
       "prod_comp_Geffen Pictures                         4.775e+07   2.15e+08      0.222      0.825   -3.76e+08    4.72e+08\n",
       "prod_comp_Gotham Group                           -1.008e+08   2.03e+08     -0.497      0.619      -5e+08    2.98e+08\n",
       "prod_comp_Gracie Films                            8.597e+07   1.51e+08      0.570      0.569   -2.11e+08    3.83e+08\n",
       "prod_comp_Happy Madison Productions              -2.914e+07   2.05e+08     -0.142      0.887   -4.33e+08    3.74e+08\n",
       "prod_comp_Heyday films                            2.036e+08   2.04e+08      0.997      0.320   -1.98e+08    6.06e+08\n",
       "prod_comp_Hofflund/Polone                          1.18e+08   2.08e+08      0.569      0.570    -2.9e+08    5.27e+08\n",
       "prod_comp_Hollywood Pictures                      5.942e+07   2.04e+08      0.291      0.771   -3.43e+08    4.61e+08\n",
       "prod_comp_Icon Entertainment International       -2.904e+08   2.11e+08     -1.378      0.169   -7.05e+08    1.24e+08\n",
       "prod_comp_Icon Productions                        1.199e+08    1.2e+08      1.002      0.317   -1.16e+08    3.56e+08\n",
       "prod_comp_Imagine Entertainment                   7.923e+07   9.42e+07      0.841      0.401   -1.06e+08    2.65e+08\n",
       "prod_comp_Ingenious Film Partners                 2.453e+08   9.41e+07      2.605      0.010    5.99e+07    4.31e+08\n",
       "prod_comp_Ingenious Media                        -2.536e+06   1.03e+08     -0.025      0.980   -2.05e+08       2e+08\n",
       "prod_comp_Jerry Bruckheimer Films                -4.525e+07   9.61e+07     -0.471      0.638   -2.34e+08    1.44e+08\n",
       "prod_comp_Josephson Entertainment                -2.154e+07   2.05e+08     -0.105      0.916   -4.25e+08    3.82e+08\n",
       "prod_comp_Kemp Company                            2.639e+07   2.03e+08      0.130      0.897   -3.74e+08    4.27e+08\n",
       "prod_comp_Lakeshore Entertainment                -9.064e+07    1.5e+08     -0.605      0.546   -3.86e+08    2.04e+08\n",
       "prod_comp_Laura Ziskin Productions                1.373e+07   2.03e+08      0.068      0.946   -3.85e+08    4.13e+08\n",
       "prod_comp_Legendary Pictures                     -1.355e+08   8.79e+07     -1.541      0.124   -3.08e+08    3.75e+07\n",
       "prod_comp_Lightstorm Entertainment                8.246e+07   2.05e+08      0.402      0.688   -3.22e+08    4.87e+08\n",
       "prod_comp_Lionsgate                              -2.644e+07   9.53e+07     -0.277      0.782   -2.14e+08    1.61e+08\n",
       "prod_comp_Lucasfilm                               3.488e+08   7.05e+07      4.948      0.000     2.1e+08    4.88e+08\n",
       "prod_comp_Marvel Studios                          6.086e+07   7.81e+07      0.779      0.437   -9.29e+07    2.15e+08\n",
       "prod_comp_Miramax Films                          -5.514e+07   7.28e+07     -0.757      0.449   -1.98e+08    8.81e+07\n",
       "prod_comp_New Line Cinema                        -7.535e+06   6.24e+07     -0.121      0.904    -1.3e+08    1.15e+08\n",
       "prod_comp_Orion Pictures                          1.093e+08   1.48e+08      0.738      0.461   -1.82e+08    4.01e+08\n",
       "prod_comp_Paramount Pictures                     -8.132e+06   3.96e+07     -0.206      0.837    -8.6e+07    6.97e+07\n",
       "prod_comp_Paramount Vantage                      -3.568e+07   2.03e+08     -0.176      0.861   -4.35e+08    3.64e+08\n",
       "prod_comp_Patalex IV Productions Limited          2.447e+08   2.06e+08      1.188      0.236   -1.61e+08     6.5e+08\n",
       "prod_comp_Plan B Entertainment                   -2.243e+07   1.19e+08     -0.188      0.851   -2.57e+08    2.12e+08\n",
       "prod_comp_PolyGram Filmed Entertainment           3.375e+07   1.21e+08      0.278      0.781   -2.05e+08    2.73e+08\n",
       "prod_comp_Regency Enterprises                    -7.392e+07    1.1e+08     -0.674      0.501    -2.9e+08    1.42e+08\n",
       "prod_comp_River Road Entertainment                7.856e+07   2.03e+08      0.386      0.700   -3.22e+08    4.79e+08\n",
       "prod_comp_SLM Production Group                     7.75e+07   2.15e+08      0.360      0.719   -3.46e+08    5.01e+08\n",
       "prod_comp_Screen Gems                             7.486e+06   2.02e+08      0.037      0.971   -3.91e+08    4.06e+08\n",
       "prod_comp_Section Eight                           3.887e+07   2.08e+08      0.187      0.852    -3.7e+08    4.48e+08\n",
       "prod_comp_Selznick International Pictures         -3.64e+07   2.26e+08     -0.161      0.872    -4.8e+08    4.08e+08\n",
       "prod_comp_Silver Pictures                         8.096e+07   9.36e+07      0.865      0.388   -1.03e+08    2.65e+08\n",
       "prod_comp_Sony Pictures Classics                  1.745e+08   2.06e+08      0.848      0.397   -2.31e+08     5.8e+08\n",
       "prod_comp_Spyglass Entertainment                 -4.373e+07   2.03e+08     -0.216      0.829   -4.42e+08    3.55e+08\n",
       "prod_comp_Studio Babelsberg                      -2.028e+06   8.49e+07     -0.024      0.981   -1.69e+08    1.65e+08\n",
       "prod_comp_Studio Ghibli                           5.081e+07   1.76e+08      0.289      0.773   -2.96e+08    3.97e+08\n",
       "prod_comp_Summit Entertainment                   -4.673e+07   9.37e+07     -0.499      0.618   -2.31e+08    1.38e+08\n",
       "prod_comp_Sunswept Entertainment                  8.133e+07   2.05e+08      0.396      0.693   -3.23e+08    4.86e+08\n",
       "prod_comp_Temple Hill Productions                -6.603e+07   2.18e+08     -0.303      0.762   -4.95e+08    3.63e+08\n",
       "prod_comp_The Weinstein Company                   9.253e+07    1.2e+08      0.769      0.442   -1.44e+08    3.29e+08\n",
       "prod_comp_Thunder Road Pictures                   -9.17e+07   2.08e+08     -0.440      0.660   -5.02e+08    3.19e+08\n",
       "prod_comp_Tig Productions                         1.705e+08   2.13e+08      0.799      0.425    -2.5e+08    5.91e+08\n",
       "prod_comp_Touchstone Pictures                     1.761e+08   1.51e+08      1.169      0.243    -1.2e+08    4.73e+08\n",
       "prod_comp_TriStar Pictures                        1.536e+08    1.2e+08      1.281      0.201   -8.23e+07     3.9e+08\n",
       "prod_comp_Twentieth Century Fox Film Corporation -5.932e+06   4.69e+07     -0.127      0.899   -9.82e+07    8.63e+07\n",
       "prod_comp_United Artists                          1.059e+08   7.62e+07      1.390      0.166    -4.4e+07    2.56e+08\n",
       "prod_comp_Universal Pictures                      7.373e+07      4e+07      1.845      0.066   -4.94e+06    1.52e+08\n",
       "prod_comp_Universal Studios                       3.783e+08   1.46e+08      2.583      0.010       9e+07    6.67e+08\n",
       "prod_comp_Vertigo Entertainment                   -1.34e+08   2.04e+08     -0.656      0.512   -5.36e+08    2.68e+08\n",
       "prod_comp_Vidhu Vinod Chopra Productions         -8.438e+07   2.08e+08     -0.405      0.686   -4.94e+08    3.26e+08\n",
       "prod_comp_Village Roadshow Pictures              -2.796e+07   5.57e+07     -0.502      0.616   -1.38e+08    8.16e+07\n",
       "prod_comp_Virtual Studios                        -3.252e+07   2.03e+08     -0.160      0.873   -4.32e+08    3.67e+08\n",
       "prod_comp_Walt Disney                             9.312e+07   1.47e+08      0.632      0.528   -1.97e+08    3.83e+08\n",
       "prod_comp_Walt Disney Pictures                    1.245e+08   6.11e+07      2.039      0.042    4.34e+06    2.45e+08\n",
       "prod_comp_Walt Disney Productions                -3.794e+07   2.08e+08     -0.182      0.856   -4.48e+08    3.72e+08\n",
       "prod_comp_Warner Bros.                            1.132e+08    6.4e+07      1.768      0.078   -1.28e+07    2.39e+08\n",
       "prod_comp_Waverly Films                           1.262e+07   2.06e+08      0.061      0.951   -3.93e+08    4.18e+08\n",
       "prod_comp_Weed Road Pictures                      7.169e+07   2.02e+08      0.354      0.723   -3.27e+08     4.7e+08\n",
       "prod_comp_Wendy Finerman Productions              6.272e+07   2.02e+08      0.310      0.757   -3.36e+08    4.61e+08\n",
       "prod_comp_WingNut Films                           9.213e+07   8.57e+07      1.076      0.283   -7.65e+07    2.61e+08\n",
       "prod_comp_Woods Entertainment                     1.517e+08   2.08e+08      0.729      0.467   -2.58e+08    5.61e+08\n",
       "prod_comp_Working Title Films                    -3.629e+07   1.48e+08     -0.246      0.806   -3.27e+08    2.55e+08\n",
       "prod_comp_Worldview Entertainment                -1.879e+08   2.03e+08     -0.925      0.356   -5.88e+08    2.12e+08\n",
       "prod_comp_Zero Gravity Management                -1.812e+07   2.08e+08     -0.087      0.931   -4.27e+08    3.91e+08\n",
       "==============================================================================\n",
       "Omnibus:                      205.157   Durbin-Watson:                   1.997\n",
       "Prob(Omnibus):                  0.000   Jarque-Bera (JB):             2261.922\n",
       "Skew:                           1.854   Prob(JB):                         0.00\n",
       "Kurtosis:                      13.893   Cond. No.                     7.64e+19\n",
       "==============================================================================\n",
       "\n",
       "Warnings:\n",
       "[1] Standard Errors assume that the covariance matrix of the errors is correctly specified.\n",
       "[2] The smallest eigenvalue is 1.09e-30. This might indicate that there are\n",
       "strong multicollinearity problems or that the design matrix is singular.\n",
       "\"\"\""
      ],
      "text/html": "<table class=\"simpletable\">\n<caption>OLS Regression Results</caption>\n<tr>\n  <th>Dep. Variable:</th>         <td>profit</td>      <th>  R-squared:         </th> <td>   0.625</td> \n</tr>\n<tr>\n  <th>Model:</th>                   <td>OLS</td>       <th>  Adj. R-squared:    </th> <td>   0.464</td> \n</tr>\n<tr>\n  <th>Method:</th>             <td>Least Squares</td>  <th>  F-statistic:       </th> <td>   3.879</td> \n</tr>\n<tr>\n  <th>Date:</th>             <td>Mon, 01 Feb 2021</td> <th>  Prob (F-statistic):</th> <td>2.54e-21</td> \n</tr>\n<tr>\n  <th>Time:</th>                 <td>19:19:56</td>     <th>  Log-Likelihood:    </th> <td> -8349.1</td> \n</tr>\n<tr>\n  <th>No. Observations:</th>      <td>   410</td>      <th>  AIC:               </th> <td>1.695e+04</td>\n</tr>\n<tr>\n  <th>Df Residuals:</th>          <td>   286</td>      <th>  BIC:               </th> <td>1.744e+04</td>\n</tr>\n<tr>\n  <th>Df Model:</th>              <td>   123</td>      <th>                     </th>     <td> </td>    \n</tr>\n<tr>\n  <th>Covariance Type:</th>      <td>nonrobust</td>    <th>                     </th>     <td> </td>    \n</tr>\n</table>\n<table class=\"simpletable\">\n<tr>\n                          <td></td>                            <th>coef</th>     <th>std err</th>      <th>t</th>      <th>P>|t|</th>  <th>[0.025</th>    <th>0.975]</th>  \n</tr>\n<tr>\n  <th>runtime</th>                                          <td> 3.917e+06</td> <td> 8.59e+05</td> <td>    4.561</td> <td> 0.000</td> <td> 2.23e+06</td> <td> 5.61e+06</td>\n</tr>\n<tr>\n  <th>vote_average</th>                                     <td>-9.862e+07</td> <td> 2.91e+07</td> <td>   -3.389</td> <td> 0.001</td> <td>-1.56e+08</td> <td>-4.13e+07</td>\n</tr>\n<tr>\n  <th>vote_count</th>                                       <td> 7.567e+04</td> <td> 7080.493</td> <td>   10.687</td> <td> 0.000</td> <td> 6.17e+04</td> <td> 8.96e+04</td>\n</tr>\n<tr>\n  <th>genre_ed_Action</th>                                  <td> 2.369e+08</td> <td> 1.94e+08</td> <td>    1.219</td> <td> 0.224</td> <td>-1.45e+08</td> <td> 6.19e+08</td>\n</tr>\n<tr>\n  <th>genre_ed_Adventure</th>                               <td> 1.902e+08</td> <td> 1.97e+08</td> <td>    0.963</td> <td> 0.336</td> <td>-1.98e+08</td> <td> 5.79e+08</td>\n</tr>\n<tr>\n  <th>genre_ed_Animation</th>                               <td> 1.796e+08</td> <td> 2.35e+08</td> <td>    0.763</td> <td> 0.446</td> <td>-2.84e+08</td> <td> 6.43e+08</td>\n</tr>\n<tr>\n  <th>genre_ed_Comedy</th>                                  <td> 2.274e+08</td> <td> 1.96e+08</td> <td>    1.160</td> <td> 0.247</td> <td>-1.58e+08</td> <td> 6.13e+08</td>\n</tr>\n<tr>\n  <th>genre_ed_Crime</th>                                   <td> 1.479e+08</td> <td> 2.06e+08</td> <td>    0.717</td> <td> 0.474</td> <td>-2.58e+08</td> <td> 5.54e+08</td>\n</tr>\n<tr>\n  <th>genre_ed_Drama</th>                                   <td> 1.844e+08</td> <td> 2.09e+08</td> <td>    0.882</td> <td> 0.378</td> <td>-2.27e+08</td> <td> 5.96e+08</td>\n</tr>\n<tr>\n  <th>genre_ed_Fantasy</th>                                 <td> 2.926e+08</td> <td> 2.12e+08</td> <td>    1.380</td> <td> 0.169</td> <td>-1.25e+08</td> <td>  7.1e+08</td>\n</tr>\n<tr>\n  <th>genre_ed_Horror</th>                                  <td> 2.263e+08</td> <td> 2.11e+08</td> <td>    1.075</td> <td> 0.283</td> <td>-1.88e+08</td> <td> 6.41e+08</td>\n</tr>\n<tr>\n  <th>genre_ed_Romance</th>                                 <td> 3.021e+08</td> <td> 2.09e+08</td> <td>    1.449</td> <td> 0.149</td> <td>-1.08e+08</td> <td> 7.13e+08</td>\n</tr>\n<tr>\n  <th>genre_ed_Science Fiction</th>                         <td> 2.446e+08</td> <td> 2.01e+08</td> <td>    1.220</td> <td> 0.224</td> <td> -1.5e+08</td> <td> 6.39e+08</td>\n</tr>\n<tr>\n  <th>genre_ed_Thriller</th>                                <td> 1.849e+08</td> <td> 2.07e+08</td> <td>    0.891</td> <td> 0.374</td> <td>-2.24e+08</td> <td> 5.93e+08</td>\n</tr>\n<tr>\n  <th>prod_comp_1492 Pictures</th>                          <td> 2.386e+08</td> <td> 1.24e+08</td> <td>    1.917</td> <td> 0.056</td> <td>-6.36e+06</td> <td> 4.83e+08</td>\n</tr>\n<tr>\n  <th>prod_comp_20th Century Fox</th>                       <td>-3.205e+07</td> <td> 2.04e+08</td> <td>   -0.157</td> <td> 0.875</td> <td>-4.33e+08</td> <td> 3.69e+08</td>\n</tr>\n<tr>\n  <th>prod_comp_Alcon Entertainment</th>                    <td> -4.33e+07</td> <td> 1.19e+08</td> <td>   -0.365</td> <td> 0.716</td> <td>-2.77e+08</td> <td>  1.9e+08</td>\n</tr>\n<tr>\n  <th>prod_comp_Alliance Films</th>                         <td>-3.374e+07</td> <td> 2.14e+08</td> <td>   -0.157</td> <td> 0.875</td> <td>-4.56e+08</td> <td> 3.88e+08</td>\n</tr>\n<tr>\n  <th>prod_comp_Amblin Entertainment</th>                   <td>-3.277e+07</td> <td> 1.46e+08</td> <td>   -0.225</td> <td> 0.822</td> <td> -3.2e+08</td> <td> 2.54e+08</td>\n</tr>\n<tr>\n  <th>prod_comp_American Zoetrope</th>                      <td>-9.645e+06</td> <td> 2.19e+08</td> <td>   -0.044</td> <td> 0.965</td> <td> -4.4e+08</td> <td> 4.21e+08</td>\n</tr>\n<tr>\n  <th>prod_comp_Arte</th>                                   <td> 5.213e+07</td> <td> 2.06e+08</td> <td>    0.254</td> <td> 0.800</td> <td>-3.52e+08</td> <td> 4.57e+08</td>\n</tr>\n<tr>\n  <th>prod_comp_BBC Films</th>                              <td> 1.609e+08</td> <td> 2.04e+08</td> <td>    0.790</td> <td> 0.430</td> <td> -2.4e+08</td> <td> 5.62e+08</td>\n</tr>\n<tr>\n  <th>prod_comp_Bac Films</th>                              <td>-3.388e+07</td> <td> 2.06e+08</td> <td>   -0.164</td> <td> 0.870</td> <td> -4.4e+08</td> <td> 3.72e+08</td>\n</tr>\n<tr>\n  <th>prod_comp_Bazmark Films</th>                          <td> 5.267e+07</td> <td> 1.44e+08</td> <td>    0.365</td> <td> 0.715</td> <td>-2.31e+08</td> <td> 3.37e+08</td>\n</tr>\n<tr>\n  <th>prod_comp_Bedford Falls Productions</th>              <td>-5.829e+07</td> <td> 1.44e+08</td> <td>   -0.405</td> <td> 0.686</td> <td>-3.42e+08</td> <td> 2.25e+08</td>\n</tr>\n<tr>\n  <th>prod_comp_Big Indie Pictures</th>                     <td>-2.504e+07</td> <td> 2.03e+08</td> <td>   -0.123</td> <td> 0.902</td> <td>-4.25e+08</td> <td> 3.75e+08</td>\n</tr>\n<tr>\n  <th>prod_comp_Big Talk Productions</th>                   <td> 6.346e+07</td> <td> 2.04e+08</td> <td>    0.311</td> <td> 0.756</td> <td>-3.38e+08</td> <td> 4.65e+08</td>\n</tr>\n<tr>\n  <th>prod_comp_Bookshop Productions</th>                   <td> 1.254e+08</td> <td> 2.18e+08</td> <td>    0.575</td> <td> 0.566</td> <td>-3.04e+08</td> <td> 5.55e+08</td>\n</tr>\n<tr>\n  <th>prod_comp_Brownstone Productions</th>                 <td>-2.267e+07</td> <td> 2.07e+08</td> <td>   -0.110</td> <td> 0.913</td> <td>-4.29e+08</td> <td> 3.84e+08</td>\n</tr>\n<tr>\n  <th>prod_comp_Castle Rock Entertainment</th>              <td>-3.149e+08</td> <td>  2.3e+08</td> <td>   -1.368</td> <td> 0.172</td> <td>-7.68e+08</td> <td> 1.38e+08</td>\n</tr>\n<tr>\n  <th>prod_comp_Centropolis Entertainment</th>              <td>-5.512e+07</td> <td> 1.45e+08</td> <td>   -0.379</td> <td> 0.705</td> <td>-3.41e+08</td> <td> 2.31e+08</td>\n</tr>\n<tr>\n  <th>prod_comp_Chernin Entertainment</th>                  <td> 1.913e+07</td> <td> 2.02e+08</td> <td>    0.094</td> <td> 0.925</td> <td>-3.79e+08</td> <td> 4.18e+08</td>\n</tr>\n<tr>\n  <th>prod_comp_Columbia Pictures</th>                      <td>-3.158e+07</td> <td> 4.64e+07</td> <td>   -0.681</td> <td> 0.497</td> <td>-1.23e+08</td> <td> 5.97e+07</td>\n</tr>\n<tr>\n  <th>prod_comp_Columbia Pictures Corporation</th>          <td> 6.026e+07</td> <td> 9.33e+07</td> <td>    0.646</td> <td> 0.519</td> <td>-1.23e+08</td> <td> 2.44e+08</td>\n</tr>\n<tr>\n  <th>prod_comp_Cruise/Wagner Productions</th>              <td> 1.018e+08</td> <td> 2.04e+08</td> <td>    0.499</td> <td> 0.618</td> <td>   -3e+08</td> <td> 5.03e+08</td>\n</tr>\n<tr>\n  <th>prod_comp_DC Comics</th>                              <td>-2.299e+08</td> <td>  1.5e+08</td> <td>   -1.535</td> <td> 0.126</td> <td>-5.25e+08</td> <td>  6.5e+07</td>\n</tr>\n<tr>\n  <th>prod_comp_DNA Films</th>                              <td>-2.841e+07</td> <td> 2.15e+08</td> <td>   -0.132</td> <td> 0.895</td> <td>-4.51e+08</td> <td> 3.94e+08</td>\n</tr>\n<tr>\n  <th>prod_comp_David Brown Productions</th>                <td> 1.105e+08</td> <td> 2.03e+08</td> <td>    0.544</td> <td> 0.587</td> <td>-2.89e+08</td> <td>  5.1e+08</td>\n</tr>\n<tr>\n  <th>prod_comp_Davis-Films</th>                            <td>-3.195e+07</td> <td>  2.1e+08</td> <td>   -0.152</td> <td> 0.879</td> <td>-4.45e+08</td> <td> 3.81e+08</td>\n</tr>\n<tr>\n  <th>prod_comp_De Line Pictures</th>                       <td>-4.826e+07</td> <td> 2.03e+08</td> <td>   -0.238</td> <td> 0.812</td> <td>-4.47e+08</td> <td> 3.51e+08</td>\n</tr>\n<tr>\n  <th>prod_comp_Degeto Film</th>                            <td>-4.238e+07</td> <td> 2.06e+08</td> <td>   -0.206</td> <td> 0.837</td> <td>-4.48e+08</td> <td> 3.63e+08</td>\n</tr>\n<tr>\n  <th>prod_comp_Det Danske Filminstitut</th>                <td>-3.584e+07</td> <td> 2.05e+08</td> <td>   -0.175</td> <td> 0.861</td> <td>-4.38e+08</td> <td> 3.67e+08</td>\n</tr>\n<tr>\n  <th>prod_comp_Dimension Films</th>                        <td>-1.023e+08</td> <td> 2.04e+08</td> <td>   -0.502</td> <td> 0.616</td> <td>-5.03e+08</td> <td> 2.99e+08</td>\n</tr>\n<tr>\n  <th>prod_comp_Double Feature Films</th>                   <td>-2.741e+08</td> <td> 2.12e+08</td> <td>   -1.296</td> <td> 0.196</td> <td> -6.9e+08</td> <td> 1.42e+08</td>\n</tr>\n<tr>\n  <th>prod_comp_DreamWorks</th>                             <td> 2.445e+07</td> <td> 2.03e+08</td> <td>    0.121</td> <td> 0.904</td> <td>-3.75e+08</td> <td> 4.23e+08</td>\n</tr>\n<tr>\n  <th>prod_comp_DreamWorks SKG</th>                         <td>-1.299e+07</td> <td> 6.44e+07</td> <td>   -0.202</td> <td> 0.840</td> <td> -1.4e+08</td> <td> 1.14e+08</td>\n</tr>\n<tr>\n  <th>prod_comp_Dune Entertainment</th>                     <td> 2.122e+08</td> <td> 2.04e+08</td> <td>    1.042</td> <td> 0.298</td> <td>-1.89e+08</td> <td> 6.13e+08</td>\n</tr>\n<tr>\n  <th>prod_comp_Eon Productions</th>                        <td> 1.173e+08</td> <td> 2.05e+08</td> <td>    0.573</td> <td> 0.567</td> <td>-2.86e+08</td> <td> 5.21e+08</td>\n</tr>\n<tr>\n  <th>prod_comp_Escape Artists</th>                         <td>-9.684e+07</td> <td> 2.04e+08</td> <td>   -0.474</td> <td> 0.636</td> <td>-4.99e+08</td> <td> 3.06e+08</td>\n</tr>\n<tr>\n  <th>prod_comp_Estudios Picasso</th>                       <td>-1.773e+08</td> <td> 2.22e+08</td> <td>   -0.798</td> <td> 0.426</td> <td>-6.15e+08</td> <td>  2.6e+08</td>\n</tr>\n<tr>\n  <th>prod_comp_Figment Films</th>                          <td>-2.134e+07</td> <td> 2.02e+08</td> <td>   -0.105</td> <td> 0.916</td> <td> -4.2e+08</td> <td> 3.77e+08</td>\n</tr>\n<tr>\n  <th>prod_comp_Fox 2000 Pictures</th>                      <td> 4.427e+07</td> <td> 1.51e+08</td> <td>    0.293</td> <td> 0.770</td> <td>-2.53e+08</td> <td> 3.42e+08</td>\n</tr>\n<tr>\n  <th>prod_comp_Fox Searchlight Pictures</th>               <td> 1.525e+08</td> <td> 1.45e+08</td> <td>    1.052</td> <td> 0.294</td> <td>-1.33e+08</td> <td> 4.38e+08</td>\n</tr>\n<tr>\n  <th>prod_comp_France 3 Cinéma</th>                        <td>-2.967e+07</td> <td> 2.08e+08</td> <td>   -0.142</td> <td> 0.887</td> <td> -4.4e+08</td> <td>  3.8e+08</td>\n</tr>\n<tr>\n  <th>prod_comp_GK Films</th>                               <td>-2.922e+07</td> <td> 2.02e+08</td> <td>   -0.144</td> <td> 0.885</td> <td>-4.28e+08</td> <td> 3.69e+08</td>\n</tr>\n<tr>\n  <th>prod_comp_Gaumont</th>                                <td> 1.897e+08</td> <td> 2.06e+08</td> <td>    0.919</td> <td> 0.359</td> <td>-2.16e+08</td> <td> 5.96e+08</td>\n</tr>\n<tr>\n  <th>prod_comp_Geffen Pictures</th>                        <td> 4.775e+07</td> <td> 2.15e+08</td> <td>    0.222</td> <td> 0.825</td> <td>-3.76e+08</td> <td> 4.72e+08</td>\n</tr>\n<tr>\n  <th>prod_comp_Gotham Group</th>                           <td>-1.008e+08</td> <td> 2.03e+08</td> <td>   -0.497</td> <td> 0.619</td> <td>   -5e+08</td> <td> 2.98e+08</td>\n</tr>\n<tr>\n  <th>prod_comp_Gracie Films</th>                           <td> 8.597e+07</td> <td> 1.51e+08</td> <td>    0.570</td> <td> 0.569</td> <td>-2.11e+08</td> <td> 3.83e+08</td>\n</tr>\n<tr>\n  <th>prod_comp_Happy Madison Productions</th>              <td>-2.914e+07</td> <td> 2.05e+08</td> <td>   -0.142</td> <td> 0.887</td> <td>-4.33e+08</td> <td> 3.74e+08</td>\n</tr>\n<tr>\n  <th>prod_comp_Heyday films</th>                           <td> 2.036e+08</td> <td> 2.04e+08</td> <td>    0.997</td> <td> 0.320</td> <td>-1.98e+08</td> <td> 6.06e+08</td>\n</tr>\n<tr>\n  <th>prod_comp_Hofflund/Polone</th>                        <td>  1.18e+08</td> <td> 2.08e+08</td> <td>    0.569</td> <td> 0.570</td> <td> -2.9e+08</td> <td> 5.27e+08</td>\n</tr>\n<tr>\n  <th>prod_comp_Hollywood Pictures</th>                     <td> 5.942e+07</td> <td> 2.04e+08</td> <td>    0.291</td> <td> 0.771</td> <td>-3.43e+08</td> <td> 4.61e+08</td>\n</tr>\n<tr>\n  <th>prod_comp_Icon Entertainment International</th>       <td>-2.904e+08</td> <td> 2.11e+08</td> <td>   -1.378</td> <td> 0.169</td> <td>-7.05e+08</td> <td> 1.24e+08</td>\n</tr>\n<tr>\n  <th>prod_comp_Icon Productions</th>                       <td> 1.199e+08</td> <td>  1.2e+08</td> <td>    1.002</td> <td> 0.317</td> <td>-1.16e+08</td> <td> 3.56e+08</td>\n</tr>\n<tr>\n  <th>prod_comp_Imagine Entertainment</th>                  <td> 7.923e+07</td> <td> 9.42e+07</td> <td>    0.841</td> <td> 0.401</td> <td>-1.06e+08</td> <td> 2.65e+08</td>\n</tr>\n<tr>\n  <th>prod_comp_Ingenious Film Partners</th>                <td> 2.453e+08</td> <td> 9.41e+07</td> <td>    2.605</td> <td> 0.010</td> <td> 5.99e+07</td> <td> 4.31e+08</td>\n</tr>\n<tr>\n  <th>prod_comp_Ingenious Media</th>                        <td>-2.536e+06</td> <td> 1.03e+08</td> <td>   -0.025</td> <td> 0.980</td> <td>-2.05e+08</td> <td>    2e+08</td>\n</tr>\n<tr>\n  <th>prod_comp_Jerry Bruckheimer Films</th>                <td>-4.525e+07</td> <td> 9.61e+07</td> <td>   -0.471</td> <td> 0.638</td> <td>-2.34e+08</td> <td> 1.44e+08</td>\n</tr>\n<tr>\n  <th>prod_comp_Josephson Entertainment</th>                <td>-2.154e+07</td> <td> 2.05e+08</td> <td>   -0.105</td> <td> 0.916</td> <td>-4.25e+08</td> <td> 3.82e+08</td>\n</tr>\n<tr>\n  <th>prod_comp_Kemp Company</th>                           <td> 2.639e+07</td> <td> 2.03e+08</td> <td>    0.130</td> <td> 0.897</td> <td>-3.74e+08</td> <td> 4.27e+08</td>\n</tr>\n<tr>\n  <th>prod_comp_Lakeshore Entertainment</th>                <td>-9.064e+07</td> <td>  1.5e+08</td> <td>   -0.605</td> <td> 0.546</td> <td>-3.86e+08</td> <td> 2.04e+08</td>\n</tr>\n<tr>\n  <th>prod_comp_Laura Ziskin Productions</th>               <td> 1.373e+07</td> <td> 2.03e+08</td> <td>    0.068</td> <td> 0.946</td> <td>-3.85e+08</td> <td> 4.13e+08</td>\n</tr>\n<tr>\n  <th>prod_comp_Legendary Pictures</th>                     <td>-1.355e+08</td> <td> 8.79e+07</td> <td>   -1.541</td> <td> 0.124</td> <td>-3.08e+08</td> <td> 3.75e+07</td>\n</tr>\n<tr>\n  <th>prod_comp_Lightstorm Entertainment</th>               <td> 8.246e+07</td> <td> 2.05e+08</td> <td>    0.402</td> <td> 0.688</td> <td>-3.22e+08</td> <td> 4.87e+08</td>\n</tr>\n<tr>\n  <th>prod_comp_Lionsgate</th>                              <td>-2.644e+07</td> <td> 9.53e+07</td> <td>   -0.277</td> <td> 0.782</td> <td>-2.14e+08</td> <td> 1.61e+08</td>\n</tr>\n<tr>\n  <th>prod_comp_Lucasfilm</th>                              <td> 3.488e+08</td> <td> 7.05e+07</td> <td>    4.948</td> <td> 0.000</td> <td>  2.1e+08</td> <td> 4.88e+08</td>\n</tr>\n<tr>\n  <th>prod_comp_Marvel Studios</th>                         <td> 6.086e+07</td> <td> 7.81e+07</td> <td>    0.779</td> <td> 0.437</td> <td>-9.29e+07</td> <td> 2.15e+08</td>\n</tr>\n<tr>\n  <th>prod_comp_Miramax Films</th>                          <td>-5.514e+07</td> <td> 7.28e+07</td> <td>   -0.757</td> <td> 0.449</td> <td>-1.98e+08</td> <td> 8.81e+07</td>\n</tr>\n<tr>\n  <th>prod_comp_New Line Cinema</th>                        <td>-7.535e+06</td> <td> 6.24e+07</td> <td>   -0.121</td> <td> 0.904</td> <td> -1.3e+08</td> <td> 1.15e+08</td>\n</tr>\n<tr>\n  <th>prod_comp_Orion Pictures</th>                         <td> 1.093e+08</td> <td> 1.48e+08</td> <td>    0.738</td> <td> 0.461</td> <td>-1.82e+08</td> <td> 4.01e+08</td>\n</tr>\n<tr>\n  <th>prod_comp_Paramount Pictures</th>                     <td>-8.132e+06</td> <td> 3.96e+07</td> <td>   -0.206</td> <td> 0.837</td> <td> -8.6e+07</td> <td> 6.97e+07</td>\n</tr>\n<tr>\n  <th>prod_comp_Paramount Vantage</th>                      <td>-3.568e+07</td> <td> 2.03e+08</td> <td>   -0.176</td> <td> 0.861</td> <td>-4.35e+08</td> <td> 3.64e+08</td>\n</tr>\n<tr>\n  <th>prod_comp_Patalex IV Productions Limited</th>         <td> 2.447e+08</td> <td> 2.06e+08</td> <td>    1.188</td> <td> 0.236</td> <td>-1.61e+08</td> <td>  6.5e+08</td>\n</tr>\n<tr>\n  <th>prod_comp_Plan B Entertainment</th>                   <td>-2.243e+07</td> <td> 1.19e+08</td> <td>   -0.188</td> <td> 0.851</td> <td>-2.57e+08</td> <td> 2.12e+08</td>\n</tr>\n<tr>\n  <th>prod_comp_PolyGram Filmed Entertainment</th>          <td> 3.375e+07</td> <td> 1.21e+08</td> <td>    0.278</td> <td> 0.781</td> <td>-2.05e+08</td> <td> 2.73e+08</td>\n</tr>\n<tr>\n  <th>prod_comp_Regency Enterprises</th>                    <td>-7.392e+07</td> <td>  1.1e+08</td> <td>   -0.674</td> <td> 0.501</td> <td> -2.9e+08</td> <td> 1.42e+08</td>\n</tr>\n<tr>\n  <th>prod_comp_River Road Entertainment</th>               <td> 7.856e+07</td> <td> 2.03e+08</td> <td>    0.386</td> <td> 0.700</td> <td>-3.22e+08</td> <td> 4.79e+08</td>\n</tr>\n<tr>\n  <th>prod_comp_SLM Production Group</th>                   <td>  7.75e+07</td> <td> 2.15e+08</td> <td>    0.360</td> <td> 0.719</td> <td>-3.46e+08</td> <td> 5.01e+08</td>\n</tr>\n<tr>\n  <th>prod_comp_Screen Gems</th>                            <td> 7.486e+06</td> <td> 2.02e+08</td> <td>    0.037</td> <td> 0.971</td> <td>-3.91e+08</td> <td> 4.06e+08</td>\n</tr>\n<tr>\n  <th>prod_comp_Section Eight</th>                          <td> 3.887e+07</td> <td> 2.08e+08</td> <td>    0.187</td> <td> 0.852</td> <td> -3.7e+08</td> <td> 4.48e+08</td>\n</tr>\n<tr>\n  <th>prod_comp_Selznick International Pictures</th>        <td> -3.64e+07</td> <td> 2.26e+08</td> <td>   -0.161</td> <td> 0.872</td> <td> -4.8e+08</td> <td> 4.08e+08</td>\n</tr>\n<tr>\n  <th>prod_comp_Silver Pictures</th>                        <td> 8.096e+07</td> <td> 9.36e+07</td> <td>    0.865</td> <td> 0.388</td> <td>-1.03e+08</td> <td> 2.65e+08</td>\n</tr>\n<tr>\n  <th>prod_comp_Sony Pictures Classics</th>                 <td> 1.745e+08</td> <td> 2.06e+08</td> <td>    0.848</td> <td> 0.397</td> <td>-2.31e+08</td> <td>  5.8e+08</td>\n</tr>\n<tr>\n  <th>prod_comp_Spyglass Entertainment</th>                 <td>-4.373e+07</td> <td> 2.03e+08</td> <td>   -0.216</td> <td> 0.829</td> <td>-4.42e+08</td> <td> 3.55e+08</td>\n</tr>\n<tr>\n  <th>prod_comp_Studio Babelsberg</th>                      <td>-2.028e+06</td> <td> 8.49e+07</td> <td>   -0.024</td> <td> 0.981</td> <td>-1.69e+08</td> <td> 1.65e+08</td>\n</tr>\n<tr>\n  <th>prod_comp_Studio Ghibli</th>                          <td> 5.081e+07</td> <td> 1.76e+08</td> <td>    0.289</td> <td> 0.773</td> <td>-2.96e+08</td> <td> 3.97e+08</td>\n</tr>\n<tr>\n  <th>prod_comp_Summit Entertainment</th>                   <td>-4.673e+07</td> <td> 9.37e+07</td> <td>   -0.499</td> <td> 0.618</td> <td>-2.31e+08</td> <td> 1.38e+08</td>\n</tr>\n<tr>\n  <th>prod_comp_Sunswept Entertainment</th>                 <td> 8.133e+07</td> <td> 2.05e+08</td> <td>    0.396</td> <td> 0.693</td> <td>-3.23e+08</td> <td> 4.86e+08</td>\n</tr>\n<tr>\n  <th>prod_comp_Temple Hill Productions</th>                <td>-6.603e+07</td> <td> 2.18e+08</td> <td>   -0.303</td> <td> 0.762</td> <td>-4.95e+08</td> <td> 3.63e+08</td>\n</tr>\n<tr>\n  <th>prod_comp_The Weinstein Company</th>                  <td> 9.253e+07</td> <td>  1.2e+08</td> <td>    0.769</td> <td> 0.442</td> <td>-1.44e+08</td> <td> 3.29e+08</td>\n</tr>\n<tr>\n  <th>prod_comp_Thunder Road Pictures</th>                  <td> -9.17e+07</td> <td> 2.08e+08</td> <td>   -0.440</td> <td> 0.660</td> <td>-5.02e+08</td> <td> 3.19e+08</td>\n</tr>\n<tr>\n  <th>prod_comp_Tig Productions</th>                        <td> 1.705e+08</td> <td> 2.13e+08</td> <td>    0.799</td> <td> 0.425</td> <td> -2.5e+08</td> <td> 5.91e+08</td>\n</tr>\n<tr>\n  <th>prod_comp_Touchstone Pictures</th>                    <td> 1.761e+08</td> <td> 1.51e+08</td> <td>    1.169</td> <td> 0.243</td> <td> -1.2e+08</td> <td> 4.73e+08</td>\n</tr>\n<tr>\n  <th>prod_comp_TriStar Pictures</th>                       <td> 1.536e+08</td> <td>  1.2e+08</td> <td>    1.281</td> <td> 0.201</td> <td>-8.23e+07</td> <td>  3.9e+08</td>\n</tr>\n<tr>\n  <th>prod_comp_Twentieth Century Fox Film Corporation</th> <td>-5.932e+06</td> <td> 4.69e+07</td> <td>   -0.127</td> <td> 0.899</td> <td>-9.82e+07</td> <td> 8.63e+07</td>\n</tr>\n<tr>\n  <th>prod_comp_United Artists</th>                         <td> 1.059e+08</td> <td> 7.62e+07</td> <td>    1.390</td> <td> 0.166</td> <td> -4.4e+07</td> <td> 2.56e+08</td>\n</tr>\n<tr>\n  <th>prod_comp_Universal Pictures</th>                     <td> 7.373e+07</td> <td>    4e+07</td> <td>    1.845</td> <td> 0.066</td> <td>-4.94e+06</td> <td> 1.52e+08</td>\n</tr>\n<tr>\n  <th>prod_comp_Universal Studios</th>                      <td> 3.783e+08</td> <td> 1.46e+08</td> <td>    2.583</td> <td> 0.010</td> <td>    9e+07</td> <td> 6.67e+08</td>\n</tr>\n<tr>\n  <th>prod_comp_Vertigo Entertainment</th>                  <td> -1.34e+08</td> <td> 2.04e+08</td> <td>   -0.656</td> <td> 0.512</td> <td>-5.36e+08</td> <td> 2.68e+08</td>\n</tr>\n<tr>\n  <th>prod_comp_Vidhu Vinod Chopra Productions</th>         <td>-8.438e+07</td> <td> 2.08e+08</td> <td>   -0.405</td> <td> 0.686</td> <td>-4.94e+08</td> <td> 3.26e+08</td>\n</tr>\n<tr>\n  <th>prod_comp_Village Roadshow Pictures</th>              <td>-2.796e+07</td> <td> 5.57e+07</td> <td>   -0.502</td> <td> 0.616</td> <td>-1.38e+08</td> <td> 8.16e+07</td>\n</tr>\n<tr>\n  <th>prod_comp_Virtual Studios</th>                        <td>-3.252e+07</td> <td> 2.03e+08</td> <td>   -0.160</td> <td> 0.873</td> <td>-4.32e+08</td> <td> 3.67e+08</td>\n</tr>\n<tr>\n  <th>prod_comp_Walt Disney</th>                            <td> 9.312e+07</td> <td> 1.47e+08</td> <td>    0.632</td> <td> 0.528</td> <td>-1.97e+08</td> <td> 3.83e+08</td>\n</tr>\n<tr>\n  <th>prod_comp_Walt Disney Pictures</th>                   <td> 1.245e+08</td> <td> 6.11e+07</td> <td>    2.039</td> <td> 0.042</td> <td> 4.34e+06</td> <td> 2.45e+08</td>\n</tr>\n<tr>\n  <th>prod_comp_Walt Disney Productions</th>                <td>-3.794e+07</td> <td> 2.08e+08</td> <td>   -0.182</td> <td> 0.856</td> <td>-4.48e+08</td> <td> 3.72e+08</td>\n</tr>\n<tr>\n  <th>prod_comp_Warner Bros.</th>                           <td> 1.132e+08</td> <td>  6.4e+07</td> <td>    1.768</td> <td> 0.078</td> <td>-1.28e+07</td> <td> 2.39e+08</td>\n</tr>\n<tr>\n  <th>prod_comp_Waverly Films</th>                          <td> 1.262e+07</td> <td> 2.06e+08</td> <td>    0.061</td> <td> 0.951</td> <td>-3.93e+08</td> <td> 4.18e+08</td>\n</tr>\n<tr>\n  <th>prod_comp_Weed Road Pictures</th>                     <td> 7.169e+07</td> <td> 2.02e+08</td> <td>    0.354</td> <td> 0.723</td> <td>-3.27e+08</td> <td>  4.7e+08</td>\n</tr>\n<tr>\n  <th>prod_comp_Wendy Finerman Productions</th>             <td> 6.272e+07</td> <td> 2.02e+08</td> <td>    0.310</td> <td> 0.757</td> <td>-3.36e+08</td> <td> 4.61e+08</td>\n</tr>\n<tr>\n  <th>prod_comp_WingNut Films</th>                          <td> 9.213e+07</td> <td> 8.57e+07</td> <td>    1.076</td> <td> 0.283</td> <td>-7.65e+07</td> <td> 2.61e+08</td>\n</tr>\n<tr>\n  <th>prod_comp_Woods Entertainment</th>                    <td> 1.517e+08</td> <td> 2.08e+08</td> <td>    0.729</td> <td> 0.467</td> <td>-2.58e+08</td> <td> 5.61e+08</td>\n</tr>\n<tr>\n  <th>prod_comp_Working Title Films</th>                    <td>-3.629e+07</td> <td> 1.48e+08</td> <td>   -0.246</td> <td> 0.806</td> <td>-3.27e+08</td> <td> 2.55e+08</td>\n</tr>\n<tr>\n  <th>prod_comp_Worldview Entertainment</th>                <td>-1.879e+08</td> <td> 2.03e+08</td> <td>   -0.925</td> <td> 0.356</td> <td>-5.88e+08</td> <td> 2.12e+08</td>\n</tr>\n<tr>\n  <th>prod_comp_Zero Gravity Management</th>                <td>-1.812e+07</td> <td> 2.08e+08</td> <td>   -0.087</td> <td> 0.931</td> <td>-4.27e+08</td> <td> 3.91e+08</td>\n</tr>\n</table>\n<table class=\"simpletable\">\n<tr>\n  <th>Omnibus:</th>       <td>205.157</td> <th>  Durbin-Watson:     </th> <td>   1.997</td>\n</tr>\n<tr>\n  <th>Prob(Omnibus):</th> <td> 0.000</td>  <th>  Jarque-Bera (JB):  </th> <td>2261.922</td>\n</tr>\n<tr>\n  <th>Skew:</th>          <td> 1.854</td>  <th>  Prob(JB):          </th> <td>    0.00</td>\n</tr>\n<tr>\n  <th>Kurtosis:</th>      <td>13.893</td>  <th>  Cond. No.          </th> <td>7.64e+19</td>\n</tr>\n</table><br/><br/>Warnings:<br/>[1] Standard Errors assume that the covariance matrix of the errors is correctly specified.<br/>[2] The smallest eigenvalue is 1.09e-30. This might indicate that there are<br/>strong multicollinearity problems or that the design matrix is singular."
     },
     "metadata": {},
     "execution_count": 198
    }
   ],
   "source": [
    "x1 = pd.get_dummies(df[['runtime','vote_average','vote_count','genre_ed','prod_comp']])\n",
    "y1 = df['profit']\n",
    "\n",
    "m_model = sm.OLS(y1,x1).fit()\n",
    "\n",
    "m_pred = m_model.predict(x1)\n",
    "\n",
    "m_model.summary()"
   ]
  },
  {
   "cell_type": "markdown",
   "metadata": {},
   "source": [
    "# 2.2 Movies Manual Regression\n",
    "\n",
    "Use your `X` and `y` matrix from 2.1 to calculate the linear regression yourself using the normal equation $(X^T X)^{-1}X^Ty$.\n",
    "\n",
    "Verify that the coefficients are the same."
   ]
  },
  {
   "cell_type": "code",
   "execution_count": 183,
   "metadata": {},
   "outputs": [],
   "source": [
    "import numpy as np"
   ]
  },
  {
   "cell_type": "code",
   "execution_count": 184,
   "metadata": {},
   "outputs": [
    {
     "output_type": "execute_result",
     "data": {
      "text/plain": [
       "array([    77687.61309268, -55903642.59426895,   3383939.7566597 ])"
      ]
     },
     "metadata": {},
     "execution_count": 184
    }
   ],
   "source": [
    "manual_reg = np.linalg.inv(x.T.dot(x)).dot(x.T).dot(y)\n",
    "manual_reg"
   ]
  },
  {
   "cell_type": "code",
   "execution_count": null,
   "metadata": {},
   "outputs": [],
   "source": [
    "#Same coefs found!"
   ]
  },
  {
   "cell_type": "markdown",
   "metadata": {},
   "source": [
    "# 2.3 Movies gradient descent regression\n",
    "\n",
    "Use your `X` and `y` matrix from 2.1 to calculate the linear regression yourself using **gradient descent**. \n",
    "\n",
    "Hint: use `scipy.optimize` and remember we're finding the $\\beta$ that minimizes the squared loss function of linear regression: $f(\\beta) = (\\beta X - y)^2$. This will look like part 3 of this lecture.\n",
    "\n",
    "Verify your coefficients are similar to the ones in 2.1 and 2.2. They won't necessarily be exactly the same, but should be roughly similar."
   ]
  },
  {
   "cell_type": "code",
   "execution_count": 199,
   "metadata": {},
   "outputs": [],
   "source": [
    "from scipy.optimize import minimize"
   ]
  },
  {
   "cell_type": "code",
   "execution_count": 200,
   "metadata": {},
   "outputs": [
    {
     "output_type": "execute_result",
     "data": {
      "text/plain": [
       "array([    77687.61312404, -55903642.38171674,   3383939.75623857])"
      ]
     },
     "metadata": {},
     "execution_count": 200
    }
   ],
   "source": [
    "grad = np.zeros(x.shape[1])\n",
    "\n",
    "def gradient_des(x,y,grad):\n",
    "    return np.sum((grad @ x - y) ** 2)\n",
    "G = minimize(gradient_des, grad, args=(y,x), method='Powell')\n",
    "\n",
    "G['x']"
   ]
  },
  {
   "cell_type": "code",
   "execution_count": null,
   "metadata": {},
   "outputs": [],
   "source": [
    "# Coefficients found to be similar but not the same"
   ]
  }
 ],
 "metadata": {
  "colab": {
   "authorship_tag": "ABX9TyPIPzivigAhB3FeR6Q96N8T",
   "collapsed_sections": [],
   "name": "Workshop: Maximum likelihood.ipynb",
   "provenance": []
  },
  "kernelspec": {
   "display_name": "Python 3",
   "language": "python",
   "name": "python3"
  },
  "language_info": {
   "codemirror_mode": {
    "name": "ipython",
    "version": 3
   },
   "file_extension": ".py",
   "mimetype": "text/x-python",
   "name": "python",
   "nbconvert_exporter": "python",
   "pygments_lexer": "ipython3",
   "version": "3.7.6-final"
  }
 },
 "nbformat": 4,
 "nbformat_minor": 1
}